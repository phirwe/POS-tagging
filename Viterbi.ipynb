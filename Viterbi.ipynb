{
 "cells": [
  {
   "cell_type": "code",
   "execution_count": 1,
   "metadata": {},
   "outputs": [],
   "source": [
    "import numpy as np\n",
    "import random"
   ]
  },
  {
   "cell_type": "code",
   "execution_count": 2,
   "metadata": {},
   "outputs": [],
   "source": [
    "lines = open('data/berp-POS-training.txt', 'r').readlines()\n",
    "k = 1.0"
   ]
  },
  {
   "cell_type": "code",
   "execution_count": 3,
   "metadata": {},
   "outputs": [],
   "source": [
    "### Calculating counts for all\n",
    "\n",
    "tags = {}\n",
    "word_tag = {}\n",
    "tag_tag = {}\n",
    "prev_tag = '#'\n",
    "start = {}\n",
    "end = {}\n",
    "\n",
    "for line in lines:\n",
    "    line = line.split()\n",
    "    if len(line) == 0:\n",
    "        if tag not in end:\n",
    "            end[tag] = 0\n",
    "        end[tag] += 1\n",
    "        prev_tag = '#'\n",
    "        continue\n",
    "        \n",
    "    word = line[1]\n",
    "    tag = line[2]\n",
    "    \n",
    "    if prev_tag == '#':\n",
    "        if tag not in start:\n",
    "            start[tag] = 0\n",
    "        start[tag] += 1\n",
    "    else:\n",
    "        if prev_tag not in tag_tag:\n",
    "            tag_tag[prev_tag] = {}\n",
    "        if tag not in tag_tag[prev_tag]:\n",
    "            tag_tag[prev_tag][tag] = 0\n",
    "        tag_tag[prev_tag][tag] += 1\n",
    "        \n",
    "    if tag not in tags:\n",
    "        tags[tag] = 0\n",
    "    tags[tag] += 1\n",
    "    \n",
    "    if word not in word_tag:\n",
    "        word_tag[word] = {}\n",
    "    if tag not in word_tag[word]:\n",
    "        word_tag[word][tag] = 0\n",
    "    word_tag[word][tag] += 1\n",
    "    \n",
    "    prev_tag = tag"
   ]
  },
  {
   "cell_type": "code",
   "execution_count": 4,
   "metadata": {},
   "outputs": [],
   "source": [
    "### Calculating add - k probabilities for all\n",
    "V = len(tags.keys())\n",
    "tag_list = list(tags.keys())\n",
    "N = len(tag_list)\n",
    "for word in word_tag:\n",
    "    for tag in tags:\n",
    "        if tag not in word_tag[word]:\n",
    "            word_tag[word][tag] = 0\n",
    "        word_tag[word][tag] = (word_tag[word][tag] + k) / (tags[tag] + (k * V))\n",
    "        \n",
    "for prev_tag in tags:\n",
    "    if prev_tag not in tag_tag:\n",
    "        tag_tag[prev_tag] = {}\n",
    "    for tag in tags:\n",
    "        if tag not in tag_tag[prev_tag]:\n",
    "            tag_tag[prev_tag][tag] = 0\n",
    "        tag_tag[prev_tag][tag] = (tag_tag[prev_tag][tag] + k) / (tags[prev_tag] + (k * V))\n",
    "        \n",
    "den = sum(list(start.values())) + (k * V)\n",
    "for tag in tags:\n",
    "    if tag not in start:\n",
    "        start[tag] = 0\n",
    "    start[tag] = (start[tag] + k) / den\n",
    "    \n",
    "den = sum(list(end.values())) + (k * V)\n",
    "for tag in tags:\n",
    "    if tag not in end:\n",
    "        end[tag] = 0\n",
    "    end[tag] = (end[tag] + k) / den"
   ]
  },
  {
   "cell_type": "code",
   "execution_count": 5,
   "metadata": {},
   "outputs": [],
   "source": [
    "test_lines = open('data/test-set.txt', 'r').readlines()\n",
    "lines = []"
   ]
  },
  {
   "cell_type": "code",
   "execution_count": 6,
   "metadata": {},
   "outputs": [],
   "source": [
    "string = \"\"\n",
    "for line in test_lines:\n",
    "    line = line.split()\n",
    "    \n",
    "    if len(line) == 0:\n",
    "        lines.append(string)\n",
    "        string = \"\"\n",
    "        continue\n",
    "    \n",
    "    string += line[1] + ' '"
   ]
  },
  {
   "cell_type": "code",
   "execution_count": 7,
   "metadata": {},
   "outputs": [],
   "source": [
    "pred_lines = []\n",
    "N = len(tag_list)"
   ]
  },
  {
   "cell_type": "code",
   "execution_count": 8,
   "metadata": {
    "scrolled": false
   },
   "outputs": [],
   "source": [
    "for line in lines:\n",
    "    T = len(line.split())\n",
    "    \n",
    "    line = line.split()\n",
    "    viterbi = np.zeros((N, T))\n",
    "    backpointer = np.zeros((N, T))\n",
    "    \n",
    "    # initialization step\n",
    "    word = line[0]\n",
    "    for s in range(len(tag_list)):\n",
    "        start_prob = start[tag_list[s]]\n",
    "        \n",
    "        try:\n",
    "            emission = word_tag[word][tag_list[s]]\n",
    "        \n",
    "        except:\n",
    "            word = random.choice(list(word_tag.keys()))\n",
    "            tag = random.choice(list(word_tag[word].keys()))\n",
    "            emission = word_tag[word][tag]\n",
    "\n",
    "        viterbi[s][0] = start_prob * emission\n",
    "        backpointer[s][0] = 0\n",
    "            \n",
    "    # recursion step\n",
    "    for t in range(1, T):\n",
    "        for s in range(len(tag_list)):\n",
    "            _max = []\n",
    "            try:\n",
    "                emission = word_tag[line[t]][tag_list[s]]\n",
    "            except:\n",
    "                word = random.choice(list(word_tag.keys()))\n",
    "                tag = random.choice(list(word_tag[word].keys()))\n",
    "                emission = word_tag[word][tag]\n",
    "            for _s in range(len(tag_list)):\n",
    "                transition = tag_tag[tag_list[_s]][tag_list[s]]\n",
    "                prod = emission*transition*viterbi[_s][t-1]\n",
    "                _max.append(prod)\n",
    "                \n",
    "            viterbi[s][t] = max(_max)\n",
    "            backpointer[s][t] = _max.index(max(_max))\n",
    "            \n",
    "    # termination step\n",
    "    _max = []\n",
    "    for s in range(len(tag_list)):\n",
    "        _max.append(viterbi[s][-1] * end[tag_list[s]])\n",
    "    \n",
    "    end_path = _max.index(max(_max))\n",
    "\n",
    "    # backtracking        \n",
    "    pred_tags = []\n",
    "    pred_tags.append((line[T-1], tag_list[end_path]))\n",
    "    for t in range(T-1, 0, -1):\n",
    "        pred_tags.append((line[t-1], tag_list[int(backpointer[end_path][t])]))\n",
    "        end_path = int(backpointer[end_path][t])\n",
    "    pred_lines.append(pred_tags[::-1])\n"
   ]
  },
  {
   "cell_type": "code",
   "execution_count": 9,
   "metadata": {},
   "outputs": [],
   "source": [
    "f = open('data/my-output.txt', 'w')\n",
    "for line in pred_lines:\n",
    "    i = 1\n",
    "    for word_tags in line:\n",
    "        f.write(str(i) + '\\t' + word_tags[0] + '\\t' + word_tags[1] + '\\n')\n",
    "        i += 1\n",
    "    f.write('\\n')\n",
    "f.close()"
   ]
  }
 ],
 "metadata": {
  "kernelspec": {
   "display_name": "Python 3",
   "language": "python",
   "name": "python3"
  },
  "language_info": {
   "codemirror_mode": {
    "name": "ipython",
    "version": 3
   },
   "file_extension": ".py",
   "mimetype": "text/x-python",
   "name": "python",
   "nbconvert_exporter": "python",
   "pygments_lexer": "ipython3",
   "version": "3.6.4"
  }
 },
 "nbformat": 4,
 "nbformat_minor": 2
}
